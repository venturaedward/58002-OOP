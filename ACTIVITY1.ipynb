{
  "nbformat": 4,
  "nbformat_minor": 0,
  "metadata": {
    "colab": {
      "provenance": [],
      "authorship_tag": "ABX9TyN0L42nvKoHWtFnIAbk5uo3",
      "include_colab_link": true
    },
    "kernelspec": {
      "name": "python3",
      "display_name": "Python 3"
    },
    "language_info": {
      "name": "python"
    }
  },
  "cells": [
    {
      "cell_type": "markdown",
      "metadata": {
        "id": "view-in-github",
        "colab_type": "text"
      },
      "source": [
        "<a href=\"https://colab.research.google.com/github/venturaedward/58002-OOP/blob/main/ACTIVITY1.ipynb\" target=\"_parent\"><img src=\"https://colab.research.google.com/assets/colab-badge.svg\" alt=\"Open In Colab\"/></a>"
      ]
    },
    {
      "cell_type": "markdown",
      "source": [
        "Write a Python program to create an array of 10 integers and display the array items. Access individual elements through indexes and compute for the sum."
      ],
      "metadata": {
        "id": "h6q7sUPGe7Te"
      }
    },
    {
      "cell_type": "code",
      "source": [
        "Sum = 0\n",
        "\n",
        "print(\"Please Enter 10 Numbers\\n\")\n",
        "i = 1\n",
        "while(i <= 10):\n",
        "    num = int(input(\"Number %d = \" %i))\n",
        "    Sum = Sum + num\n",
        "    i = i + 1\n",
        "\n",
        "\n",
        "print(\"The Sum of 10 Numbers     = \", Sum)\n"
      ],
      "metadata": {
        "colab": {
          "base_uri": "https://localhost:8080/"
        },
        "id": "BrlROonhfBJ0",
        "outputId": "427177c9-f6ac-478f-cc68-978daf15e1bc"
      },
      "execution_count": 22,
      "outputs": [
        {
          "output_type": "stream",
          "name": "stdout",
          "text": [
            "Please Enter 10 Numbers\n",
            "\n",
            "Number 1 = 2\n",
            "Number 2 = 3\n",
            "Number 3 = 1\n",
            "Number 4 = 3\n",
            "Number 5 = 4\n",
            "Number 6 = 5\n",
            "Number 7 = 6\n",
            "Number 8 = 7\n",
            "Number 9 = 8\n",
            "Number 10 = 3\n",
            "The Sum of 10 Numbers     =  42\n"
          ]
        }
      ]
    },
    {
      "cell_type": "markdown",
      "source": [
        "Write a Python program to append a new item to the end of the array. Original array: numbers = [1, 2, 3, 4, 5, 6, 7, 8, 9, 10]"
      ],
      "metadata": {
        "id": "_Vcw2s7wfOdj"
      }
    },
    {
      "cell_type": "code",
      "source": [
        "num = [\"1\", \"2\", \"3\", \"4\", \"5\", \"6\", \"7\", \"8\", \"9\", \"10\"]\n",
        "num.append(\"55\")\n",
        "print(num)"
      ],
      "metadata": {
        "colab": {
          "base_uri": "https://localhost:8080/"
        },
        "id": "rzX-UMq8fQwa",
        "outputId": "5c59379f-133b-4585-867c-ea519e45e9ad"
      },
      "execution_count": 2,
      "outputs": [
        {
          "output_type": "stream",
          "name": "stdout",
          "text": [
            "['1', '2', '3', '4', '5', '6', '7', '8', '9', '10', '55']\n"
          ]
        }
      ]
    },
    {
      "cell_type": "markdown",
      "source": [
        "Write a Python program to insert a new item before the second element in an existing array. Original array: numbers = [1, 2, 3, 4, 5, 6, 7, 8, 9, 10]"
      ],
      "metadata": {
        "id": "4JeUoaIagMo5"
      }
    },
    {
      "cell_type": "code",
      "source": [
        "num = [\"1\", \"2\", \"3\", \"4\", \"5\", \"6\", \"7\", \"8\", \"9\", \"10\"]\n",
        "num.insert(2,51)\n",
        "print(num)"
      ],
      "metadata": {
        "colab": {
          "base_uri": "https://localhost:8080/"
        },
        "id": "mnw_0GC9gt4I",
        "outputId": "0f221c47-abc9-4c4e-c40e-b59d0c2a9b5d"
      },
      "execution_count": 7,
      "outputs": [
        {
          "output_type": "stream",
          "name": "stdout",
          "text": [
            "['1', '2', 51, '3', '4', '5', '6', '7', '8', '9', '10']\n"
          ]
        }
      ]
    },
    {
      "cell_type": "markdown",
      "source": [
        "Write a Python program to reverse the order of the items in the array.Original array: numbers = [5, 4, 3, 2, 1]"
      ],
      "metadata": {
        "id": "1kGFISWzhtdm"
      }
    },
    {
      "cell_type": "code",
      "source": [
        "num = [\"5\", \"4\", \"3\", \"2\", \"1\"]\n",
        "num.reverse()\n",
        "print(num)"
      ],
      "metadata": {
        "colab": {
          "base_uri": "https://localhost:8080/"
        },
        "id": "mV6rjLcihvbs",
        "outputId": "f84257fb-ef76-48d5-f122-647d00c3a1b5"
      },
      "execution_count": 9,
      "outputs": [
        {
          "output_type": "stream",
          "name": "stdout",
          "text": [
            "['1', '2', '3', '4', '5']\n"
          ]
        }
      ]
    },
    {
      "cell_type": "markdown",
      "source": [
        "Write a Python program to get the length of the array. Original array: numbers = [5, 4, 3, 2, 1]"
      ],
      "metadata": {
        "id": "O7avq8NaiGwQ"
      }
    },
    {
      "cell_type": "code",
      "source": [
        "num = [\"5\", \"4\", \"3\", \"2\", \"1\"]\n",
        "x = len(num)\n",
        "print(x)"
      ],
      "metadata": {
        "colab": {
          "base_uri": "https://localhost:8080/"
        },
        "id": "csYuycnhiJT5",
        "outputId": "6035f4fb-dadc-4e51-bc12-0e25dd8b74b2"
      },
      "execution_count": 10,
      "outputs": [
        {
          "output_type": "stream",
          "name": "stdout",
          "text": [
            "5\n"
          ]
        }
      ]
    }
  ]
}