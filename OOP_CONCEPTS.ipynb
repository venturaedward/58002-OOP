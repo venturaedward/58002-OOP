{
  "nbformat": 4,
  "nbformat_minor": 0,
  "metadata": {
    "colab": {
      "provenance": [],
      "authorship_tag": "ABX9TyNp4clm30dPXW8poKiciJ4t",
      "include_colab_link": true
    },
    "kernelspec": {
      "name": "python3",
      "display_name": "Python 3"
    },
    "language_info": {
      "name": "python"
    }
  },
  "cells": [
    {
      "cell_type": "markdown",
      "metadata": {
        "id": "view-in-github",
        "colab_type": "text"
      },
      "source": [
        "<a href=\"https://colab.research.google.com/github/venturaedward/58002-OOP/blob/main/OOP_CONCEPTS.ipynb\" target=\"_parent\"><img src=\"https://colab.research.google.com/assets/colab-badge.svg\" alt=\"Open In Colab\"/></a>"
      ]
    },
    {
      "cell_type": "code",
      "execution_count": null,
      "metadata": {
        "colab": {
          "base_uri": "https://localhost:8080/"
        },
        "id": "7Ta9dEGgvNeK",
        "outputId": "b1323063-d53e-4024-dfc3-34dd15f81034"
      },
      "outputs": [
        {
          "output_type": "stream",
          "name": "stdout",
          "text": [
            "4\n"
          ]
        }
      ],
      "source": [
        "#Creation of Class\n",
        "\n",
        "class myClass:       #name of class\n",
        "  y = 4              #property name\n",
        "\n",
        "p1 = myClass()       #create an object named p1\n",
        "print(p1.y)          #print the value of y\n",
        "\n"
      ]
    },
    {
      "cell_type": "code",
      "source": [
        "class myclass:\n",
        "  pass "
      ],
      "metadata": {
        "id": "xW9KI4lYx3Re"
      },
      "execution_count": null,
      "outputs": []
    },
    {
      "cell_type": "code",
      "source": [
        "#Creation of Method\n",
        "\n",
        "class Persons:\n",
        "  def __init__(self,name,age):\n",
        "    self.name = name\n",
        "    self.age = age\n",
        "\n",
        "  def myFunction(self):\n",
        "    print(\"Hello my name is\", self.name)\n",
        "\n",
        "teacher = Persons(\"Maria\", 40)\n",
        "teacher.myFunction()"
      ],
      "metadata": {
        "colab": {
          "base_uri": "https://localhost:8080/"
        },
        "id": "FzDHlradyI1D",
        "outputId": "2149dc02-2909-4835-ac4a-ba47e9c09868"
      },
      "execution_count": null,
      "outputs": [
        {
          "output_type": "stream",
          "name": "stdout",
          "text": [
            "Hello my name is Maria\n"
          ]
        }
      ]
    },
    {
      "cell_type": "code",
      "source": [
        "#Modification of object properties \n",
        "teacher.name = \"Ana\"\n",
        "teacher.myFunction()\n"
      ],
      "metadata": {
        "colab": {
          "base_uri": "https://localhost:8080/"
        },
        "id": "8k6Iykxkze6a",
        "outputId": "99ec8d56-436f-469a-8f43-31332d4eb609"
      },
      "execution_count": null,
      "outputs": [
        {
          "output_type": "stream",
          "name": "stdout",
          "text": [
            "Hello my name is Ana\n"
          ]
        }
      ]
    },
    {
      "cell_type": "code",
      "source": [
        "#Deletion of object properties\n",
        "\n",
        "print(teacher.name)\n"
      ],
      "metadata": {
        "colab": {
          "base_uri": "https://localhost:8080/"
        },
        "id": "RxUT89ePz9if",
        "outputId": "efd94ea9-4daa-4f49-cbb3-56e58d78e1f1"
      },
      "execution_count": null,
      "outputs": [
        {
          "output_type": "stream",
          "name": "stdout",
          "text": [
            "Ana\n"
          ]
        }
      ]
    },
    {
      "cell_type": "code",
      "source": [
        "class Shapes:\n",
        "  def __init__(self,side1,side2):\n",
        "    self.side1 = side1\n",
        "    self.side2 = side2\n",
        "  #def area_square(self,side1):\n",
        "    #return self.side1 *self.side1\n",
        "\n",
        "  def area_rectangle(self):\n",
        "    return self.side1 * self.side2\n",
        "  #def display_square(self):\n",
        "    #print(\"The area of the square is\",self.area_square())\n",
        "\n",
        "  def display_rectangle(self):\n",
        "    print(\"The area of the rectangle is\",self.area_rectangle())\n",
        "#square = Shapes(5)\n",
        "rectangle = Shapes(10,5)\n",
        "\n",
        "rectangle.display_rectangle()\n",
        "\n"
      ],
      "metadata": {
        "colab": {
          "base_uri": "https://localhost:8080/"
        },
        "id": "ZT3oAWNq03_q",
        "outputId": "9817b02d-214a-4f22-e169-7acc20b752f0"
      },
      "execution_count": null,
      "outputs": [
        {
          "output_type": "stream",
          "name": "stdout",
          "text": [
            "The area of the rectangle is 50\n"
          ]
        }
      ]
    },
    {
      "cell_type": "code",
      "source": [
        "class Shapes:\n",
        "  def __init__(self,side1,side2):\n",
        "    self.side1 = side1\n",
        "    self.side2 = side2\n",
        "  def display_square(self):\n",
        "    print(\"The area of square is\",self.area_square())\n",
        "\n",
        "  def display_rectangle(self):\n",
        "class Square(Shapes):\n",
        "  def area_square(self):\n",
        "    return self.side1*self.side1\n",
        "\n",
        "\n",
        "class Rectangle(Shapes):\n",
        "  def area_rectangle(self):\n",
        "    print(self.side1*self.side2)\n",
        "\n",
        "\n",
        "square = Square(4,4)\n",
        "\n",
        "rectangle = Rectangle(10,5)\n",
        "\n",
        "square.display_square()\n",
        "rectangle.display_rectangle()\n"
      ],
      "metadata": {
        "colab": {
          "base_uri": "https://localhost:8080/",
          "height": 130
        },
        "id": "MdnLz3R59qnN",
        "outputId": "bc42fb66-5727-4ac2-8ad0-a4e048200e1e"
      },
      "execution_count": 67,
      "outputs": [
        {
          "output_type": "error",
          "ename": "IndentationError",
          "evalue": "ignored",
          "traceback": [
            "\u001b[0;36m  File \u001b[0;32m\"<ipython-input-67-dbc14089a4c8>\"\u001b[0;36m, line \u001b[0;32m9\u001b[0m\n\u001b[0;31m    class Square(Shapes):\u001b[0m\n\u001b[0m                         ^\u001b[0m\n\u001b[0;31mIndentationError\u001b[0m\u001b[0;31m:\u001b[0m expected an indented block\n"
          ]
        }
      ]
    }
  ]
}