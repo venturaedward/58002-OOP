{
  "nbformat": 4,
  "nbformat_minor": 0,
  "metadata": {
    "colab": {
      "provenance": [],
      "authorship_tag": "ABX9TyObSWQmYxe4pyg9n58LtivG",
      "include_colab_link": true
    },
    "kernelspec": {
      "name": "python3",
      "display_name": "Python 3"
    },
    "language_info": {
      "name": "python"
    }
  },
  "cells": [
    {
      "cell_type": "markdown",
      "metadata": {
        "id": "view-in-github",
        "colab_type": "text"
      },
      "source": [
        "<a href=\"https://colab.research.google.com/github/venturaedward/58002-OOP/blob/main/Lab_Activity_no_1.ipynb\" target=\"_parent\"><img src=\"https://colab.research.google.com/assets/colab-badge.svg\" alt=\"Open In Colab\"/></a>"
      ]
    },
    {
      "cell_type": "markdown",
      "source": [
        "ACTIVITY 1\n"
      ],
      "metadata": {
        "id": "wKAWGgp_oX8T"
      }
    },
    {
      "cell_type": "code",
      "source": [
        "n=20 \n",
        "sum = int(input())\n",
        "print(\"sum\")\n",
        "average = int(input())\n",
        "print(\"average\")\n",
        "totalnumbers=n\n",
        "\n",
        "\n",
        "while n>=0: \n",
        "  sum = 0\n",
        "  average = 0\n",
        "  sum+=n\n",
        "  n-=1\n",
        "print(\"sum=\", sum)\n",
        "average=sum/totalnumbers\n",
        "print(\"average=\", average)"
      ],
      "metadata": {
        "colab": {
          "base_uri": "https://localhost:8080/"
        },
        "id": "IxybAxpfoZJi",
        "outputId": "50fc972e-03cf-4ad6-8011-ff6f5628938c"
      },
      "execution_count": null,
      "outputs": [
        {
          "output_type": "stream",
          "name": "stdout",
          "text": [
            "13\n",
            "sum\n",
            "14\n",
            "average\n",
            "sum= 0\n",
            "average= 0.0\n"
          ]
        }
      ]
    }
  ]
}