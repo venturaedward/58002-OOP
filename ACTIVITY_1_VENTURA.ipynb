{
  "nbformat": 4,
  "nbformat_minor": 0,
  "metadata": {
    "colab": {
      "provenance": [],
      "authorship_tag": "ABX9TyMkO7p7CRbTCJZmNDIbmuJS",
      "include_colab_link": true
    },
    "kernelspec": {
      "name": "python3",
      "display_name": "Python 3"
    },
    "language_info": {
      "name": "python"
    }
  },
  "cells": [
    {
      "cell_type": "markdown",
      "metadata": {
        "id": "view-in-github",
        "colab_type": "text"
      },
      "source": [
        "<a href=\"https://colab.research.google.com/github/venturaedward/58002-OOP/blob/main/ACTIVITY_1_VENTURA.ipynb\" target=\"_parent\"><img src=\"https://colab.research.google.com/assets/colab-badge.svg\" alt=\"Open In Colab\"/></a>"
      ]
    },
    {
      "cell_type": "markdown",
      "source": [
        "ACTIVITY 1\n"
      ],
      "metadata": {
        "id": "wKAWGgp_oX8T"
      }
    },
    {
      "cell_type": "code",
      "source": [
        "n=20\n",
        "totalnumbers = n\n",
        "sum = 0\n",
        "average = 0\n",
        "\n",
        "while n>=0:\n",
        "    sum +=n\n",
        "    n -=1\n",
        "print(\"Sum=\", sum)\n",
        "average = sum/totalnumbers\n",
        "print(\"Average=\", average)"
      ],
      "metadata": {
        "colab": {
          "base_uri": "https://localhost:8080/"
        },
        "id": "IxybAxpfoZJi",
        "outputId": "8f7e2a1f-b478-47ba-db24-b5f2241b60da"
      },
      "execution_count": 56,
      "outputs": [
        {
          "output_type": "stream",
          "name": "stdout",
          "text": [
            "Sum= 210\n",
            "Average= 10.5\n"
          ]
        }
      ]
    }
  ]
}