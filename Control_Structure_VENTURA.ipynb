{
  "nbformat": 4,
  "nbformat_minor": 0,
  "metadata": {
    "colab": {
      "provenance": [],
      "authorship_tag": "ABX9TyO8oeWorcN48CvS7IqiYRuz",
      "include_colab_link": true
    },
    "kernelspec": {
      "name": "python3",
      "display_name": "Python 3"
    },
    "language_info": {
      "name": "python"
    }
  },
  "cells": [
    {
      "cell_type": "markdown",
      "metadata": {
        "id": "view-in-github",
        "colab_type": "text"
      },
      "source": [
        "<a href=\"https://colab.research.google.com/github/venturaedward/58002-OOP/blob/main/Control_Structure_VENTURA.ipynb\" target=\"_parent\"><img src=\"https://colab.research.google.com/assets/colab-badge.svg\" alt=\"Open In Colab\"/></a>"
      ]
    },
    {
      "cell_type": "markdown",
      "source": [
        "Conditional Statement in Python"
      ],
      "metadata": {
        "id": "Kw2wWHNxidwr"
      }
    },
    {
      "cell_type": "code",
      "source": [
        "#If Statement\n",
        "a = 100\n",
        "b = 50\n",
        "if a>b:\n",
        "  print(\"a is greater than b\")\n",
        "\n"
      ],
      "metadata": {
        "colab": {
          "base_uri": "https://localhost:8080/"
        },
        "id": "Vhsmc5mfimKZ",
        "outputId": "c8259786-cd70-4825-844a-840d981ea11b"
      },
      "execution_count": 35,
      "outputs": [
        {
          "output_type": "stream",
          "name": "stdout",
          "text": [
            "a is greater than b\n"
          ]
        }
      ]
    },
    {
      "cell_type": "code",
      "source": [
        "#Elif Statement\n",
        "if a>b:\n",
        "  print(\"a is greater than b\")\n",
        "elif a<b:\n",
        "  print(\"a is less than b\")\n",
        "else: \n",
        "  (\"a is equal b\")"
      ],
      "metadata": {
        "colab": {
          "base_uri": "https://localhost:8080/"
        },
        "id": "QZ0wPuiamSZL",
        "outputId": "3689da40-f2e1-4cf5-e5b7-9916be9347d7"
      },
      "execution_count": 37,
      "outputs": [
        {
          "output_type": "stream",
          "name": "stdout",
          "text": [
            "a is greater than b\n"
          ]
        }
      ]
    },
    {
      "cell_type": "code",
      "source": [
        "if a==b: print(\"a is equal to b\")"
      ],
      "metadata": {
        "colab": {
          "base_uri": "https://localhost:8080/"
        },
        "id": "jpytMsp5mxDy",
        "outputId": "c303a0de-780e-4efd-96c3-7d6ef6d1b182"
      },
      "execution_count": 33,
      "outputs": [
        {
          "output_type": "stream",
          "name": "stdout",
          "text": [
            "a is equal to b\n"
          ]
        }
      ]
    },
    {
      "cell_type": "markdown",
      "source": [
        "Short Hand If...Else"
      ],
      "metadata": {
        "id": "R3OQbSXfmefq"
      }
    },
    {
      "cell_type": "code",
      "source": [
        "print(\"a is greater than b\")if a>b else print(\"a is less than b\")"
      ],
      "metadata": {
        "id": "Ff70h_gHmiwy"
      },
      "execution_count": null,
      "outputs": []
    },
    {
      "cell_type": "code",
      "source": [
        "a = 200\n",
        "b = 33\n",
        "c = 500\n",
        "if a>b or a > c:\n",
        "  print(\"At least one of the condition\")"
      ],
      "metadata": {
        "colab": {
          "base_uri": "https://localhost:8080/"
        },
        "id": "T4ZldEbrm_Eh",
        "outputId": "321886f4-b355-477f-b075-01fbd60894b7"
      },
      "execution_count": 38,
      "outputs": [
        {
          "output_type": "stream",
          "name": "stdout",
          "text": [
            "At least one of the condition\n"
          ]
        }
      ]
    },
    {
      "cell_type": "markdown",
      "source": [
        "And Condition\n"
      ],
      "metadata": {
        "id": "I2n1Bi-OnZya"
      }
    },
    {
      "cell_type": "code",
      "source": [
        "s = 75\n",
        "t = 70\n",
        "if s>t and t<s:\n",
        "  print(\"s > t\")"
      ],
      "metadata": {
        "colab": {
          "base_uri": "https://localhost:8080/"
        },
        "id": "Gy9-7_6Enbl6",
        "outputId": "46713c8b-ae5d-493a-b607-bc134d93cf9c"
      },
      "execution_count": 44,
      "outputs": [
        {
          "output_type": "stream",
          "name": "stdout",
          "text": [
            "s > t\n"
          ]
        }
      ]
    },
    {
      "cell_type": "markdown",
      "source": [
        "Or Condition\n"
      ],
      "metadata": {
        "id": "9NfKG8-sn_Hy"
      }
    },
    {
      "cell_type": "code",
      "source": [
        "print(\"s > t and t < s\")\n"
      ],
      "metadata": {
        "colab": {
          "base_uri": "https://localhost:8080/"
        },
        "id": "R_Sc7Gh8oAhi",
        "outputId": "4b9624b4-9724-4078-be45-a89fc8c69861"
      },
      "execution_count": 46,
      "outputs": [
        {
          "output_type": "stream",
          "name": "stdout",
          "text": [
            "s > t and t < s\n"
          ]
        }
      ]
    },
    {
      "cell_type": "code",
      "source": [
        "x = 40\n",
        "if x>10:\n",
        "  print(\"Above 10\")\n",
        " if x>20:\n",
        "   print(\"Above 20\")\n",
        "   if x>30:\n",
        "     print(\"Above 30\")\n",
        "     if x>40:\n",
        "       print(\"Above 40\")\n",
        "      else:\n",
        "        print(\"Below 40\")\n",
        "    else\n",
        "    \n",
        "      "
      ],
      "metadata": {
        "colab": {
          "base_uri": "https://localhost:8080/",
          "height": 130
        },
        "id": "jnKsa0NYoAnC",
        "outputId": "2c0a5c36-620f-4f17-fc80-490143b8c455"
      },
      "execution_count": 130,
      "outputs": [
        {
          "output_type": "error",
          "ename": "IndentationError",
          "evalue": "ignored",
          "traceback": [
            "\u001b[0;36m  File \u001b[0;32m\"<tokenize>\"\u001b[0;36m, line \u001b[0;32m14\u001b[0m\n\u001b[0;31m    else:\u001b[0m\n\u001b[0m    ^\u001b[0m\n\u001b[0;31mIndentationError\u001b[0m\u001b[0;31m:\u001b[0m unindent does not match any outer indentation level\n"
          ]
        }
      ]
    },
    {
      "cell_type": "markdown",
      "source": [
        "Example 1\n",
        "\n"
      ],
      "metadata": {
        "id": "nR8r6uvXt3eC"
      }
    },
    {
      "cell_type": "code",
      "source": [
        "x = int(input())\n",
        "if x>=18:\n",
        " print(\"legal age\")\n",
        "elif x<18:\n",
        " print(\"under age\")\n",
        "else:\n",
        "  print(\"Input your age\")"
      ],
      "metadata": {
        "colab": {
          "base_uri": "https://localhost:8080/"
        },
        "id": "79IF6oyBsxOa",
        "outputId": "7c9b8658-5377-49b5-9968-0a944a68ebf3"
      },
      "execution_count": 135,
      "outputs": [
        {
          "output_type": "stream",
          "name": "stdout",
          "text": [
            "-123\n",
            "under age\n"
          ]
        }
      ]
    },
    {
      "cell_type": "markdown",
      "source": [
        "Example 2"
      ],
      "metadata": {
        "id": "QY21EoIFtzPq"
      }
    },
    {
      "cell_type": "code",
      "source": [
        "x = int(input())\n",
        "if x>0:\n",
        " print(\"The number is positive\")\n",
        "elif x<0:\n",
        " print(\"The number is negative\")\n",
        "else: \n",
        "  print(\"The number is zero\")\n"
      ],
      "metadata": {
        "colab": {
          "base_uri": "https://localhost:8080/"
        },
        "id": "U0QAjlZxt7My",
        "outputId": "89a89075-8ab6-4dab-dfb8-e0829a371605"
      },
      "execution_count": 123,
      "outputs": [
        {
          "output_type": "stream",
          "name": "stdout",
          "text": [
            "00\n",
            "The number is zero\n"
          ]
        }
      ]
    },
    {
      "cell_type": "markdown",
      "source": [
        "Example 3 \n"
      ],
      "metadata": {
        "id": "27jLNv1lwfPS"
      }
    },
    {
      "cell_type": "code",
      "source": [
        "x = float(input())\n",
        "if x>100.1 or x<0:\n",
        "  print(\"Invalid Grades\")\n",
        "elif x>70:\n",
        "  print(\"Passed\")\n",
        "elif x>=65.1 and x<=69:\n",
        "  print(\"Remidial\")\n",
        "else:\n",
        "  print(\"failed\")\n",
        "\n"
      ],
      "metadata": {
        "colab": {
          "base_uri": "https://localhost:8080/"
        },
        "id": "N9lLgsG8wgx6",
        "outputId": "80539b17-c675-4464-8478-3aeeda9203c3"
      },
      "execution_count": 117,
      "outputs": [
        {
          "output_type": "stream",
          "name": "stdout",
          "text": [
            "64.9\n",
            "failed\n"
          ]
        }
      ]
    },
    {
      "cell_type": "code",
      "source": [],
      "metadata": {
        "id": "YPU_Za0typ7y"
      },
      "execution_count": null,
      "outputs": []
    }
  ]
}