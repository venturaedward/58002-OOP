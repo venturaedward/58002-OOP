{
  "nbformat": 4,
  "nbformat_minor": 0,
  "metadata": {
    "colab": {
      "provenance": [],
      "authorship_tag": "ABX9TyPes1X5CA+CsV6w5SEtRYsz",
      "include_colab_link": true
    },
    "kernelspec": {
      "name": "python3",
      "display_name": "Python 3"
    },
    "language_info": {
      "name": "python"
    }
  },
  "cells": [
    {
      "cell_type": "markdown",
      "metadata": {
        "id": "view-in-github",
        "colab_type": "text"
      },
      "source": [
        "<a href=\"https://colab.research.google.com/github/venturaedward/58002-OOP/blob/main/Ventura_Encapsulation.ipynb\" target=\"_parent\"><img src=\"https://colab.research.google.com/assets/colab-badge.svg\" alt=\"Open In Colab\"/></a>"
      ]
    },
    {
      "cell_type": "markdown",
      "source": [
        "Classes with multiple objects\n"
      ],
      "metadata": {
        "id": "-z0tf72L6bjQ"
      }
    },
    {
      "cell_type": "code",
      "source": [
        "class foo:\n",
        "  def __init__(self,a,b):\n",
        "    self.a = a\n",
        "    self.b = b\n",
        "  def add(self):\n",
        "    return self.a + self.b\n",
        "    \n",
        "\n",
        "foo_object = foo(3,4)\n",
        "foo_object.add()\n",
        "foo_object.a = 7\n",
        "foo_object.b = 6\n",
        "foo_object.add()"
      ],
      "metadata": {
        "colab": {
          "base_uri": "https://localhost:8080/"
        },
        "id": "h9gCBoPc6d8J",
        "outputId": "ff887952-f6ba-44db-fadf-b373412eadf2"
      },
      "execution_count": 20,
      "outputs": [
        {
          "output_type": "execute_result",
          "data": {
            "text/plain": [
              "13"
            ]
          },
          "metadata": {},
          "execution_count": 20
        }
      ]
    },
    {
      "cell_type": "code",
      "source": [
        "#class with multiple objects\n",
        "\n",
        "class birds: \n",
        "  def __init__(self,name_birds):\n",
        "    self.name_birds = name_birds\n",
        "  def flying_birds(self):\n",
        "    print(f\"The {self.name_birds} if the flying bird above  the sky\")\n",
        "  def non_flying_birds(self):\n",
        "    print(f\"The {self.name_birds} is the non flying bird\")\n",
        "\n",
        "eagle = birds(\"eagle\")\n",
        "chicken = birds (\"chicken\")\n",
        "eagle.flying_birds()\n",
        "chicken.non_flying_birds()\n"
      ],
      "metadata": {
        "colab": {
          "base_uri": "https://localhost:8080/"
        },
        "id": "daBLsnfd9WTK",
        "outputId": "ea9528f3-cc92-4e7d-9578-c97a63379a9c"
      },
      "execution_count": 16,
      "outputs": [
        {
          "output_type": "stream",
          "name": "stdout",
          "text": [
            "The eagle if the flying bird above  the sky\n",
            "The chicken is the non flying bird\n"
          ]
        }
      ]
    },
    {
      "cell_type": "code",
      "source": [
        "#inheritance\n",
        "\n",
        "class Person:\n",
        "  def __init__(self, name, birthdate):\n",
        "    self.name = name\n",
        "    self.birthdate = birthdate\n",
        "  def display(self):\n",
        "    print(\"My name is\", self.name)\n",
        "    print(\"My birthdate is\", self.birthdate)\n",
        "class Student(Person):\n",
        "  pass\n",
        "\n",
        "person = Person(\"Maria\", \"February 29, 1990\")\n",
        "person.display()\n",
        "\n",
        "student = Person(\"Ana\", \"March 14, 1969\")\n",
        "student.display()"
      ],
      "metadata": {
        "colab": {
          "base_uri": "https://localhost:8080/"
        },
        "id": "kYy_-Q4u8VER",
        "outputId": "1045dd04-3287-437c-a5a8-6d03ea8e8aeb"
      },
      "execution_count": 26,
      "outputs": [
        {
          "output_type": "stream",
          "name": "stdout",
          "text": [
            "My name is Maria\n",
            "My birthdate is February 29, 1990\n",
            "My name is Ana\n",
            "My birthdate is March 14, 1969\n"
          ]
        }
      ]
    },
    {
      "cell_type": "code",
      "source": [
        "class Shapes:\n",
        "  def __init__(self, shapes, sides):\n",
        "    self.shapes = shapes\n",
        "    self.sides = sides\n",
        "  def display(self):\n",
        "    print(\"The shape of\", self.shapes)\n",
        "    print(\"have\", self.sides)\n",
        "class Shapes(Shapes):\n",
        "  pass\n",
        "\n",
        "    \n",
        "shapes = Shapes(\"square\", \"4 sides\")\n",
        "shapes.display()\n",
        "\n",
        "shapes = Shapes(\"Triangle\", \"3 sides\")\n",
        "shapes.display()\n",
        "\n",
        "shapes = Shapes(\"Rhombus\", \"4 straight sides\")\n",
        "shapes.display()\n",
        "\n",
        "shapes = Shapes(\"Pentagon\", \"5 sides\")\n",
        "shapes.display()\n",
        "\n",
        "shapes = Shapes(\"Hexagon\", \"6 sides\")\n",
        "shapes.display()\n"
      ],
      "metadata": {
        "colab": {
          "base_uri": "https://localhost:8080/"
        },
        "id": "rj7apVcmCztU",
        "outputId": "0f6ea362-9e8e-42e3-af5e-e8a8e26a1ed9"
      },
      "execution_count": 62,
      "outputs": [
        {
          "output_type": "stream",
          "name": "stdout",
          "text": [
            "The shape of square\n",
            "have 4 sides\n",
            "The shape of Triangle\n",
            "have 3 sides\n",
            "The shape of Rhombus\n",
            "have 4 straight sides\n",
            "The shape of Pentagon\n",
            "have 5 sides\n",
            "The shape of Hexagon\n",
            "have 6 sides\n"
          ]
        }
      ]
    },
    {
      "cell_type": "code",
      "source": [],
      "metadata": {
        "id": "jvrNNe5WBT0K"
      },
      "execution_count": null,
      "outputs": []
    }
  ]
}